{
 "cells": [
  {
   "cell_type": "markdown",
   "id": "1beed964-10a6-480c-a21a-4b79c3d79f79",
   "metadata": {},
   "source": [
    "## This notebook stands for reviewing some basics of NumPy\n",
    "\n",
    "Here are some basic functions often used in data science use cases for data transformation or manipulation subjects.\n",
    "In the following lines, I am showing those different ways to create an array. Sometimes I will share in which context of data analysis or data science it's possible some functions can be useful."
   ]
  },
  {
   "cell_type": "code",
   "execution_count": 51,
   "id": "83514433-62b2-4056-b277-5108390a3107",
   "metadata": {},
   "outputs": [],
   "source": [
    "#import numpy library\n",
    "import numpy as np"
   ]
  },
  {
   "cell_type": "markdown",
   "id": "50279b0f-1654-4406-894e-90ceee5dcf1f",
   "metadata": {},
   "source": [
    "### Creating arrays based on different objects"
   ]
  },
  {
   "cell_type": "code",
   "execution_count": 52,
   "id": "994eb335-2b4e-4121-8478-495142674e87",
   "metadata": {},
   "outputs": [
    {
     "name": "stdout",
     "output_type": "stream",
     "text": [
      "Nous obtenons la matrice à une ligne suivante: [1 2 3 4 5]\n"
     ]
    }
   ],
   "source": [
    "#Create an array based on list\n",
    "list1 = [1,2,3,4,5]\n",
    "array_list = np.array(list1)\n",
    "print(\"Nous obtenons la matrice à une ligne suivante:\", array_list)"
   ]
  },
  {
   "cell_type": "code",
   "execution_count": 53,
   "id": "63a9d366-f832-40ff-9643-fea38e0fc014",
   "metadata": {},
   "outputs": [
    {
     "name": "stdout",
     "output_type": "stream",
     "text": [
      "Nous obtenons la matrice suivante:\n",
      " [[8 6 4 9]\n",
      " [2 3 6 9]\n",
      " [1 7 5 0]]\n"
     ]
    }
   ],
   "source": [
    "#Create an array based on a array\n",
    "list2 = [[8,6,4,9],[2,3,6,9],[1,7,5,0]]\n",
    "array = np.array(list2)\n",
    "print(\"Nous obtenons la matrice suivante:\\n\", array)"
   ]
  },
  {
   "cell_type": "code",
   "execution_count": 54,
   "id": "8f3cb283-445d-4094-a0f3-35e63988b6d8",
   "metadata": {},
   "outputs": [
    {
     "name": "stdout",
     "output_type": "stream",
     "text": [
      "Nous avons la matrice 0 suivante:\n",
      " [[0. 0. 0.]\n",
      " [0. 0. 0.]\n",
      " [0. 0. 0.]]\n"
     ]
    }
   ],
   "source": [
    "#Create an array based on a function\n",
    "array = np.zeros((3,3))\n",
    "print(\"Nous avons la matrice 0 suivante:\\n\",list3)"
   ]
  },
  {
   "cell_type": "code",
   "execution_count": 55,
   "id": "8d10c389-9da9-4e5b-83a0-81e87cbf7619",
   "metadata": {},
   "outputs": [
    {
     "name": "stdout",
     "output_type": "stream",
     "text": [
      "Nous avons la matrice 1 suivante:\n",
      " [[1. 1. 1. 1.]\n",
      " [1. 1. 1. 1.]\n",
      " [1. 1. 1. 1.]]\n"
     ]
    }
   ],
   "source": [
    "#Create an array based on a function \n",
    "array = np.ones((3,4))\n",
    "print(\"Nous avons la matrice 1 suivante:\\n\",array)"
   ]
  },
  {
   "cell_type": "code",
   "execution_count": 56,
   "id": "444180be-257a-4bf8-aacb-59e475f23e1e",
   "metadata": {},
   "outputs": [
    {
     "name": "stdout",
     "output_type": "stream",
     "text": [
      "Nous avons la matrice identité suivante:\n",
      " [[1. 0. 0. 0.]\n",
      " [0. 1. 0. 0.]\n",
      " [0. 0. 1. 0.]\n",
      " [0. 0. 0. 1.]]\n"
     ]
    }
   ],
   "source": [
    "#Create an identity array with a function\n",
    "array = np.eye(4)\n",
    "print(\"Nous avons la matrice identité suivante:\\n\",array)"
   ]
  },
  {
   "cell_type": "code",
   "execution_count": 57,
   "id": "ead74f77-7aba-4603-bf49-9f3cf1d2c122",
   "metadata": {},
   "outputs": [
    {
     "name": "stdout",
     "output_type": "stream",
     "text": [
      "Nous avons la matrice suivante:\n",
      " [11 14 17 20 23]\n"
     ]
    }
   ],
   "source": [
    "#Create an arrange array with a function\n",
    "array = np.arange(11, 26, 3)\n",
    "print(\"Nous avons la matrice suivante:\\n\",array)"
   ]
  },
  {
   "cell_type": "code",
   "execution_count": 58,
   "id": "723a1929-1460-41ca-b443-42d437bd9bb3",
   "metadata": {},
   "outputs": [
    {
     "name": "stdout",
     "output_type": "stream",
     "text": [
      "Nous avons les points suivants:\n",
      " [10.         11.42857143 12.85714286 14.28571429 15.71428571 17.14285714\n",
      " 18.57142857 20.        ]\n"
     ]
    }
   ],
   "source": [
    "#Create an array with the linspace. This function is often used when generating points to designe some analytical graphics\n",
    "#This function helps in generating values between two numbers and the number of points needed.\n",
    "array = np.linspace(10,20,8)\n",
    "print(\"Nous avons les points suivants:\\n\", array)"
   ]
  },
  {
   "cell_type": "markdown",
   "id": "d4ae7055-8c9c-4823-a6bf-4681ffeb2f95",
   "metadata": {},
   "source": [
    "### Some Mathematics & Statistics functions often used in data science fields"
   ]
  },
  {
   "cell_type": "code",
   "execution_count": 59,
   "id": "94c9d916-39f7-4db4-ab89-3a1ec64f6301",
   "metadata": {},
   "outputs": [
    {
     "name": "stdout",
     "output_type": "stream",
     "text": [
      "Nous avons la matrice suivante:\n",
      " [[0.50586331 0.38688166 0.23056968]\n",
      " [0.76517649 0.10472565 0.29625244]]\n"
     ]
    }
   ],
   "source": [
    "#Create an array of random values with random function\n",
    "#Helps in initializing weights of neuronnal networks and generating synthetic learning data (random data tables then)\n",
    "array = np.random.random((2,3))\n",
    "print(\"Nous avons la matrice suivante:\\n\", array)"
   ]
  },
  {
   "cell_type": "code",
   "execution_count": 30,
   "id": "05b4d7b4-de38-4494-9c97-d0c49c2ff9bd",
   "metadata": {},
   "outputs": [
    {
     "name": "stdout",
     "output_type": "stream",
     "text": [
      "Nous avons la matrice suivante: [ 3  9  6 12]\n",
      "La somme de ce vecteur est 30\n",
      "La moyenne de ce vecteur est 7.5\n",
      "L'écart type de ce vecteur est 3.3541019662496847\n",
      "La valeur absolue  de ce vecteur est [ 3  9  6 12]\n",
      "Les racines carées de ce vecteur sont [1.73205081 3.         2.44948974 3.46410162]\n",
      "Le min de ce vecteur est 3\n",
      "Le max de ce vecteur est 12\n",
      "La puissance carrée de ce vecteur est [  9  81  36 144]\n",
      "La valeur exponentielle de ce vecteur est [2.00855369e+01 8.10308393e+03 4.03428793e+02 1.62754791e+05]\n",
      "Les logarithmes de ce vecteur sont [1.09861229 2.19722458 1.79175947 2.48490665]\n",
      "Les # sinus de ce vecteur sont [ 0.14112001  0.41211849 -0.2794155  -0.53657292]\n",
      "La médiane de ce vecteur est 7.5\n"
     ]
    }
   ],
   "source": [
    "#Some descriptives statistcs and mathematics funcitons often used in data science/analysis with numpy\n",
    "#Defining an array based on a list\n",
    "array = np.array([3,9,6,12])\n",
    "print (\"Nous avons la matrice suivante:\", array)\n",
    "\n",
    "#Functions\n",
    "array_sum = np.sum(array)\n",
    "print(\"La somme de ce vecteur est\", array_sum)\n",
    "array_mean = np.mean(array)\n",
    "print(\"La moyenne de ce vecteur est\", array_mean)\n",
    "array_std = np.std(array)\n",
    "print(\"L'écart type de ce vecteur est\", array_std)\n",
    "array_abs = np.abs(array)\n",
    "print(\"La valeur absolue  de ce vecteur est\", array_abs)\n",
    "array_sqrt = np.sqrt(array)\n",
    "print(\"Les racines carées de ce vecteur sont\", array_sqrt)\n",
    "array_min = np.min(array)\n",
    "print(\"Le min de ce vecteur est\", array_min)\n",
    "array_max = np.max(array)\n",
    "print(\"Le max de ce vecteur est\", array_max)\n",
    "array_power = np.power(array, 2)\n",
    "print(\"La puissance carrée de ce vecteur est\", array_power)\n",
    "array_exp = np.exp(array)\n",
    "print(\"La valeur exponentielle de ce vecteur est\", array_exp)\n",
    "array_log = np.log(array_abs)\n",
    "print(\"Les logarithmes de ce vecteur sont\", array_log)\n",
    "array_sin = np.sin(array)\n",
    "print(\"Les # sinus de ce vecteur sont\", array_sin)\n",
    "array_median = np.median(array)\n",
    "print(\"La médiane de ce vecteur est\", array_median)\n",
    "#array_sum\n",
    "\n"
   ]
  },
  {
   "cell_type": "markdown",
   "id": "59fe4923-9978-439e-9e0a-ad7b9f1325af",
   "metadata": {},
   "source": [
    "### Array manipulation\n",
    "In the following lines, let's see how we can make some calculations on arrays with numpy. More, which analytic conclusion can we have?\n"
   ]
  },
  {
   "cell_type": "code",
   "execution_count": 108,
   "id": "fc5dca48-5c3c-41e6-bdde-6b95ff684fe4",
   "metadata": {},
   "outputs": [
    {
     "name": "stdout",
     "output_type": "stream",
     "text": [
      "Le produit matriciel, nous donne:\n",
      " [[112  94  88]\n",
      " [ 76  63  56]\n",
      " [131 110 103]]\n"
     ]
    }
   ],
   "source": [
    "array_mnp = np.array([[8,6,4],[2,3,6],[9,7,5]])\n",
    "\n",
    "#Matrix Product\n",
    "array_product = np.dot(array_mnp, array_mnp)\n",
    "print(\"Le produit matriciel, nous donne:\\n\", array_product)"
   ]
  },
  {
   "cell_type": "code",
   "execution_count": 34,
   "id": "13bc478f-498e-48d3-a54f-5b26888640f1",
   "metadata": {},
   "outputs": [
    {
     "name": "stdout",
     "output_type": "stream",
     "text": [
      "La transposée de la matrice est \n",
      " [[8 2 9]\n",
      " [6 3 7]\n",
      " [4 6 5]]\n"
     ]
    }
   ],
   "source": [
    "#Matrix Transpose\n",
    "array_transpose = np.transpose(array_mnp)\n",
    "print(\"La transposée de la matrice est \\n\", array_transpose)"
   ]
  },
  {
   "cell_type": "code",
   "execution_count": 37,
   "id": "3fe0d0d3-3c76-4d4a-80de-ad426bad4cd0",
   "metadata": {},
   "outputs": [
    {
     "name": "stdout",
     "output_type": "stream",
     "text": [
      "La transposée de la matrice est \n",
      " [[  6.75   0.5   -6.  ]\n",
      " [-11.    -1.    10.  ]\n",
      " [  3.25   0.5   -3.  ]]\n"
     ]
    }
   ],
   "source": [
    "#Matrix inversion\n",
    "array_inversion = np.linalg.inv(array_mnp)\n",
    "print(\"La transposée de la matrice est \\n\", array_inversion)"
   ]
  },
  {
   "cell_type": "code",
   "execution_count": 107,
   "id": "a03f0e00-9e4c-4263-8086-9113ed36d18d",
   "metadata": {},
   "outputs": [
    {
     "name": "stdout",
     "output_type": "stream",
     "text": [
      "Le déterminant de la matrice est \n",
      " [[  6.75   0.5   -6.  ]\n",
      " [-11.    -1.    10.  ]\n",
      " [  3.25   0.5   -3.  ]]\n"
     ]
    }
   ],
   "source": [
    "#Determinant\n",
    "array_det = np.linalg.det(array_mnp)\n",
    "print(\"Le déterminant de la matrice est \\n\", array_inversion)"
   ]
  },
  {
   "cell_type": "markdown",
   "id": "056a0f4f-c083-43e4-b6d3-fa259bb65c95",
   "metadata": {},
   "source": [
    "### Access matrix or vector for edition purposes and making updates of array under conditions"
   ]
  },
  {
   "cell_type": "code",
   "execution_count": 48,
   "id": "a6f2db48-ea79-4576-bc7d-5bfb4084d013",
   "metadata": {},
   "outputs": [
    {
     "name": "stdout",
     "output_type": "stream",
     "text": [
      "La première valeur est 6\n",
      "La dernière valeur est 10\n"
     ]
    }
   ],
   "source": [
    "#Access the array elements\n",
    "array=np.array([6,8,9,7,10])\n",
    "first_value = array[0]\n",
    "print(\"La première valeur est\", first_value)\n",
    "last_value = array[-1]\n",
    "print(\"La dernière valeur est\", last_value)"
   ]
  },
  {
   "cell_type": "code",
   "execution_count": 103,
   "id": "3af2c708-0ff2-43da-9f39-93b6b32e5736",
   "metadata": {},
   "outputs": [
    {
     "name": "stdout",
     "output_type": "stream",
     "text": [
      "Le nouveau vecteur est [20  8  9  7 10]\n"
     ]
    }
   ],
   "source": [
    "#Update an array\n",
    "array[0] = 20\n",
    "print(\"Le nouveau vecteur est\", array)"
   ]
  },
  {
   "cell_type": "code",
   "execution_count": 104,
   "id": "37f0c0ac-df4f-4fe7-b239-d8bbdc862518",
   "metadata": {},
   "outputs": [
    {
     "name": "stdout",
     "output_type": "stream",
     "text": [
      "Les éléments du vecteur qui respecte la condition sont [20  8  9  7 10]\n"
     ]
    }
   ],
   "source": [
    "#Accessing an element under a condition\n",
    "filter = array > 6\n",
    "ifyes= array[filter]\n",
    "print(\"Les éléments du vecteur qui respecte la condition sont\", ifyes)"
   ]
  },
  {
   "cell_type": "code",
   "execution_count": 105,
   "id": "0cd65934-ccc6-47ce-bd96-f6f193cc7db2",
   "metadata": {},
   "outputs": [
    {
     "name": "stdout",
     "output_type": "stream",
     "text": [
      "Les indices du vecteur qui respecte la condition sont [20  8  9  7 10]\n"
     ]
    }
   ],
   "source": [
    "#Accessing the index of an element under a condition np.where function\n",
    "condition = array > 6\n",
    "index = np.where(condition)\n",
    "print(\"Les indices du vecteur qui respecte la condition sont\", ifyes)"
   ]
  },
  {
   "cell_type": "code",
   "execution_count": 65,
   "id": "13ded862-785f-4b87-bdeb-1d6ebcc41d6c",
   "metadata": {},
   "outputs": [
    {
     "name": "stdout",
     "output_type": "stream",
     "text": [
      "Le nouveau vecteur est [ 0  8  9  7 10]\n"
     ]
    }
   ],
   "source": [
    "#Editing values of an array based on a condition\n",
    "#when the condition 'condition = array > 6' is verified, replace the value by 0\n",
    "array[condition] = 0\n",
    "print(\"Le nouveau vecteur est\", array)"
   ]
  },
  {
   "cell_type": "code",
   "execution_count": 82,
   "id": "149f943d-57d4-4a59-b08e-aff983a76894",
   "metadata": {},
   "outputs": [
    {
     "name": "stdout",
     "output_type": "stream",
     "text": [
      "La première ligne c'est [5 7 9] et la première colonne c'est [5 1 2]\n",
      "La sous matrice correspond à \n",
      " [[3 3]\n",
      " [9 0]]\n",
      "De façon avancé, les valeurs sélectionnées sont [7 3]\n"
     ]
    }
   ],
   "source": [
    "#Slicing and advanced indexation\n",
    "sli_array = np.array([[5,7,9],[1,3,3],[2,9,0]])\n",
    "\n",
    "#Slicing\n",
    "first_row = sli_array[0, :]\n",
    "first_col = sli_array[:, 0]\n",
    "partial_array = sli_array[1:3 , 1:3]\n",
    "print(\"La première ligne c'est\", first_row ,\"et la première colonne c'est\",  first_col)\n",
    "print(\"La sous matrice correspond à \\n\", partial_array)\n",
    "\n",
    "#Advanced indexation\n",
    "rows = [0, 1]\n",
    "cols = [1, 2]\n",
    "sltd_values = sli_array[rows, cols]\n",
    "print(\"De façon avancé, les valeurs sélectionnées sont\", sltd_values)"
   ]
  },
  {
   "cell_type": "code",
   "execution_count": 106,
   "id": "b8186faa-6ac3-4d7a-9499-d35514687301",
   "metadata": {},
   "outputs": [
    {
     "name": "stdout",
     "output_type": "stream",
     "text": [
      "Addition: [5 7 9] \n",
      "Product: [ 4 10 18]\n"
     ]
    }
   ],
   "source": [
    "#Basic operations\n",
    "array1 = np.array([1, 2, 3])\n",
    "array2 = np.array([4, 5, 6])\n",
    "\n",
    "#addition\n",
    "add = array1+array2\n",
    "#product\n",
    "product = array1*array2\n",
    "print(\"Addition:\", add,\"\\nProduct:\", product)"
   ]
  },
  {
   "cell_type": "code",
   "execution_count": 88,
   "id": "91ccfb9d-901d-4077-9719-5f499d9cbda8",
   "metadata": {},
   "outputs": [
    {
     "name": "stdout",
     "output_type": "stream",
     "text": [
      "la nouvelle matrice est \n",
      " [[ 2  4  6]\n",
      " [ 5  7  9]\n",
      " [ 8 10 12]]\n"
     ]
    }
   ],
   "source": [
    "#Broadcasting operation\n",
    "array3 = np.array([[1, 2, 3], [4, 5, 6], [7, 8, 9]])\n",
    "array4 = np.array([1, 2, 3])\n",
    "print(\"la nouvelle matrice est \\n\", array3+array4)"
   ]
  },
  {
   "cell_type": "markdown",
   "id": "e8f9ff50-8271-4f20-ab74-e3832533f874",
   "metadata": {},
   "source": [
    "### Resize a matrix, add an element & knowing data types"
   ]
  },
  {
   "cell_type": "code",
   "execution_count": 95,
   "id": "e2236e9e-84d1-4a31-bc16-2fc6bae0cabb",
   "metadata": {},
   "outputs": [
    {
     "name": "stdout",
     "output_type": "stream",
     "text": [
      "la nouvelle matrice est \n",
      " [[0 1 2]\n",
      " [3 4 5]\n",
      " [6 7 8]]\n"
     ]
    }
   ],
   "source": [
    "#Resize an array\n",
    "array5= np.arange(9)\n",
    "resize= array5.reshape(3,3)\n",
    "print(\"la nouvelle matrice est \\n\",resize)"
   ]
  },
  {
   "cell_type": "code",
   "execution_count": 96,
   "id": "1114a03c-e159-46e8-b6b1-2580e0fe1fd4",
   "metadata": {},
   "outputs": [
    {
     "name": "stdout",
     "output_type": "stream",
     "text": [
      "la nouvelle matrice est \n",
      " [ 0  1  2  3  4  5  6  7  8 10 14 16]\n"
     ]
    }
   ],
   "source": [
    "#Add a value in the array\n",
    "array6 = np.append(array5, [10,14, 16])\n",
    "print (\"la nouvelle matrice est \\n\",array6)"
   ]
  },
  {
   "cell_type": "code",
   "execution_count": 102,
   "id": "452bf3bd-7e67-473c-8a0c-5262a1afee6d",
   "metadata": {},
   "outputs": [
    {
     "name": "stdout",
     "output_type": "stream",
     "text": [
      "La dimension de la matrice est : (3, 3)\n",
      "le type d'objet est : <class 'numpy.ndarray'>\n",
      "le type des élééments de l'objet est : int64\n"
     ]
    }
   ],
   "source": [
    "#Knowing array caracteristics\n",
    "print(\"La dimension de la matrice est :\",array3.shape)\n",
    "print(\"le type d'objet est :\", type(array3))\n",
    "print(\"le type des élééments de l'objet est :\", array3.dtype)"
   ]
  }
 ],
 "metadata": {
  "kernelspec": {
   "display_name": "Python 3 (ipykernel)",
   "language": "python",
   "name": "python3"
  },
  "language_info": {
   "codemirror_mode": {
    "name": "ipython",
    "version": 3
   },
   "file_extension": ".py",
   "mimetype": "text/x-python",
   "name": "python",
   "nbconvert_exporter": "python",
   "pygments_lexer": "ipython3",
   "version": "3.11.7"
  }
 },
 "nbformat": 4,
 "nbformat_minor": 5
}
